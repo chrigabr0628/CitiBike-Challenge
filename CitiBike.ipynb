{
 "cells": [
  {
   "cell_type": "code",
   "execution_count": 1,
   "metadata": {},
   "outputs": [],
   "source": [
    "import pandas as pd"
   ]
  },
  {
   "cell_type": "code",
   "execution_count": 2,
   "metadata": {},
   "outputs": [
    {
     "name": "stderr",
     "output_type": "stream",
     "text": [
      "C:\\Users\\chris\\AppData\\Local\\Temp\\ipykernel_2844\\3908967590.py:2: DtypeWarning: Columns (5,7) have mixed types. Specify dtype option on import or set low_memory=False.\n",
      "  df = pd.concat(map(pd.read_csv, data), ignore_index=True)\n",
      "C:\\Users\\chris\\AppData\\Local\\Temp\\ipykernel_2844\\3908967590.py:2: DtypeWarning: Columns (5,7) have mixed types. Specify dtype option on import or set low_memory=False.\n",
      "  df = pd.concat(map(pd.read_csv, data), ignore_index=True)\n",
      "C:\\Users\\chris\\AppData\\Local\\Temp\\ipykernel_2844\\3908967590.py:2: DtypeWarning: Columns (5,7) have mixed types. Specify dtype option on import or set low_memory=False.\n",
      "  df = pd.concat(map(pd.read_csv, data), ignore_index=True)\n",
      "C:\\Users\\chris\\AppData\\Local\\Temp\\ipykernel_2844\\3908967590.py:2: DtypeWarning: Columns (5,7) have mixed types. Specify dtype option on import or set low_memory=False.\n",
      "  df = pd.concat(map(pd.read_csv, data), ignore_index=True)\n"
     ]
    },
    {
     "data": {
      "text/html": [
       "<div>\n",
       "<style scoped>\n",
       "    .dataframe tbody tr th:only-of-type {\n",
       "        vertical-align: middle;\n",
       "    }\n",
       "\n",
       "    .dataframe tbody tr th {\n",
       "        vertical-align: top;\n",
       "    }\n",
       "\n",
       "    .dataframe thead th {\n",
       "        text-align: right;\n",
       "    }\n",
       "</style>\n",
       "<table border=\"1\" class=\"dataframe\">\n",
       "  <thead>\n",
       "    <tr style=\"text-align: right;\">\n",
       "      <th></th>\n",
       "      <th>ride_id</th>\n",
       "      <th>rideable_type</th>\n",
       "      <th>started_at</th>\n",
       "      <th>ended_at</th>\n",
       "      <th>start_station_name</th>\n",
       "      <th>start_station_id</th>\n",
       "      <th>end_station_name</th>\n",
       "      <th>end_station_id</th>\n",
       "      <th>start_lat</th>\n",
       "      <th>start_lng</th>\n",
       "      <th>end_lat</th>\n",
       "      <th>end_lng</th>\n",
       "      <th>member_casual</th>\n",
       "    </tr>\n",
       "  </thead>\n",
       "  <tbody>\n",
       "    <tr>\n",
       "      <th>0</th>\n",
       "      <td>984F50BCBC76DD9A</td>\n",
       "      <td>classic_bike</td>\n",
       "      <td>2023-06-11 06:54:21</td>\n",
       "      <td>2023-06-11 07:12:28</td>\n",
       "      <td>W 84 St &amp; Columbus Ave</td>\n",
       "      <td>7382.04</td>\n",
       "      <td>Amsterdam Ave &amp; W 125 St</td>\n",
       "      <td>7800.03</td>\n",
       "      <td>40.785000</td>\n",
       "      <td>-73.972834</td>\n",
       "      <td>40.813358</td>\n",
       "      <td>-73.956461</td>\n",
       "      <td>member</td>\n",
       "    </tr>\n",
       "    <tr>\n",
       "      <th>1</th>\n",
       "      <td>03E3D62E7FB76B05</td>\n",
       "      <td>classic_bike</td>\n",
       "      <td>2023-06-19 15:23:11</td>\n",
       "      <td>2023-06-19 16:00:05</td>\n",
       "      <td>E 89 St &amp; York Ave</td>\n",
       "      <td>7204.08</td>\n",
       "      <td>Mott St &amp; Prince St</td>\n",
       "      <td>5561.04</td>\n",
       "      <td>40.777958</td>\n",
       "      <td>-73.945928</td>\n",
       "      <td>40.723180</td>\n",
       "      <td>-73.994800</td>\n",
       "      <td>member</td>\n",
       "    </tr>\n",
       "    <tr>\n",
       "      <th>2</th>\n",
       "      <td>8E7EE421A0B8BBF3</td>\n",
       "      <td>classic_bike</td>\n",
       "      <td>2023-06-06 16:07:05</td>\n",
       "      <td>2023-06-06 16:15:14</td>\n",
       "      <td>E 51 St &amp; 2 Ave</td>\n",
       "      <td>6575.03</td>\n",
       "      <td>E 25 St &amp; 1 Ave</td>\n",
       "      <td>6004.07</td>\n",
       "      <td>40.755357</td>\n",
       "      <td>-73.967489</td>\n",
       "      <td>40.738177</td>\n",
       "      <td>-73.977387</td>\n",
       "      <td>member</td>\n",
       "    </tr>\n",
       "    <tr>\n",
       "      <th>3</th>\n",
       "      <td>24D66A0C46493CB1</td>\n",
       "      <td>classic_bike</td>\n",
       "      <td>2023-06-26 19:52:23</td>\n",
       "      <td>2023-06-26 19:55:47</td>\n",
       "      <td>India St Pier</td>\n",
       "      <td>5794.05</td>\n",
       "      <td>Franklin St &amp; Dupont St</td>\n",
       "      <td>5944.01</td>\n",
       "      <td>40.731735</td>\n",
       "      <td>-73.961239</td>\n",
       "      <td>40.735640</td>\n",
       "      <td>-73.958660</td>\n",
       "      <td>member</td>\n",
       "    </tr>\n",
       "    <tr>\n",
       "      <th>4</th>\n",
       "      <td>E944882A074B8F61</td>\n",
       "      <td>classic_bike</td>\n",
       "      <td>2023-06-05 08:57:57</td>\n",
       "      <td>2023-06-05 09:13:36</td>\n",
       "      <td>E 47 St &amp; 2 Ave</td>\n",
       "      <td>6498.1</td>\n",
       "      <td>5 Ave &amp; E 29 St</td>\n",
       "      <td>6248.06</td>\n",
       "      <td>40.753231</td>\n",
       "      <td>-73.970325</td>\n",
       "      <td>40.745168</td>\n",
       "      <td>-73.986831</td>\n",
       "      <td>member</td>\n",
       "    </tr>\n",
       "  </tbody>\n",
       "</table>\n",
       "</div>"
      ],
      "text/plain": [
       "            ride_id rideable_type           started_at             ended_at  \\\n",
       "0  984F50BCBC76DD9A  classic_bike  2023-06-11 06:54:21  2023-06-11 07:12:28   \n",
       "1  03E3D62E7FB76B05  classic_bike  2023-06-19 15:23:11  2023-06-19 16:00:05   \n",
       "2  8E7EE421A0B8BBF3  classic_bike  2023-06-06 16:07:05  2023-06-06 16:15:14   \n",
       "3  24D66A0C46493CB1  classic_bike  2023-06-26 19:52:23  2023-06-26 19:55:47   \n",
       "4  E944882A074B8F61  classic_bike  2023-06-05 08:57:57  2023-06-05 09:13:36   \n",
       "\n",
       "       start_station_name start_station_id          end_station_name  \\\n",
       "0  W 84 St & Columbus Ave          7382.04  Amsterdam Ave & W 125 St   \n",
       "1      E 89 St & York Ave          7204.08       Mott St & Prince St   \n",
       "2         E 51 St & 2 Ave          6575.03           E 25 St & 1 Ave   \n",
       "3           India St Pier          5794.05   Franklin St & Dupont St   \n",
       "4         E 47 St & 2 Ave           6498.1           5 Ave & E 29 St   \n",
       "\n",
       "  end_station_id  start_lat  start_lng    end_lat    end_lng member_casual  \n",
       "0        7800.03  40.785000 -73.972834  40.813358 -73.956461        member  \n",
       "1        5561.04  40.777958 -73.945928  40.723180 -73.994800        member  \n",
       "2        6004.07  40.755357 -73.967489  40.738177 -73.977387        member  \n",
       "3        5944.01  40.731735 -73.961239  40.735640 -73.958660        member  \n",
       "4        6248.06  40.753231 -73.970325  40.745168 -73.986831        member  "
      ]
     },
     "execution_count": 2,
     "metadata": {},
     "output_type": "execute_result"
    }
   ],
   "source": [
    "data = [\"202306-citibike-tripdata_1.csv\", \"202306-citibike-tripdata_2.csv\", \"202306-citibike-tripdata_3.csv\", \"202306-citibike-tripdata_4.csv\"]\n",
    "df = pd.concat(map(pd.read_csv, data), ignore_index=True) \n",
    "df.head()"
   ]
  },
  {
   "cell_type": "code",
   "execution_count": 3,
   "metadata": {},
   "outputs": [
    {
     "data": {
      "text/plain": [
       "(3560259, 13)"
      ]
     },
     "execution_count": 3,
     "metadata": {},
     "output_type": "execute_result"
    }
   ],
   "source": [
    "df.shape"
   ]
  },
  {
   "cell_type": "code",
   "execution_count": 4,
   "metadata": {},
   "outputs": [
    {
     "data": {
      "text/plain": [
       "ride_id                object\n",
       "rideable_type          object\n",
       "started_at             object\n",
       "ended_at               object\n",
       "start_station_name     object\n",
       "start_station_id       object\n",
       "end_station_name       object\n",
       "end_station_id         object\n",
       "start_lat             float64\n",
       "start_lng             float64\n",
       "end_lat               float64\n",
       "end_lng               float64\n",
       "member_casual          object\n",
       "dtype: object"
      ]
     },
     "execution_count": 4,
     "metadata": {},
     "output_type": "execute_result"
    }
   ],
   "source": [
    "df.dtypes"
   ]
  },
  {
   "cell_type": "code",
   "execution_count": 5,
   "metadata": {},
   "outputs": [
    {
     "data": {
      "text/plain": [
       "start_station_id\n",
       "6140.05    6778\n",
       "6140.05    6626\n",
       "5329.03    6378\n",
       "6331.01    5726\n",
       "5329.03    5693\n",
       "           ... \n",
       "JC035         1\n",
       "HB301         1\n",
       "HB102         1\n",
       "JC078         1\n",
       "HB402         1\n",
       "Name: count, Length: 3788, dtype: int64"
      ]
     },
     "execution_count": 5,
     "metadata": {},
     "output_type": "execute_result"
    }
   ],
   "source": [
    "df[\"start_station_id\"].value_counts()"
   ]
  },
  {
   "cell_type": "code",
   "execution_count": 6,
   "metadata": {},
   "outputs": [
    {
     "data": {
      "text/plain": [
       "end_station_id\n",
       "6765.01       10079\n",
       "6822.09        9971\n",
       "6331.01        9970\n",
       "6432.11        9748\n",
       "6140.05        9592\n",
       "              ...  \n",
       "JC081             1\n",
       "190 Morgan        1\n",
       "HB101             1\n",
       "JC103             1\n",
       "JC024             1\n",
       "Name: count, Length: 2731, dtype: int64"
      ]
     },
     "execution_count": 6,
     "metadata": {},
     "output_type": "execute_result"
    }
   ],
   "source": [
    "df[\"end_station_id\"].value_counts()"
   ]
  },
  {
   "cell_type": "code",
   "execution_count": 7,
   "metadata": {},
   "outputs": [],
   "source": [
    "df[\"started_at\"] = pd.to_datetime(df[\"started_at\"])\n",
    "df[\"ended_at\"] = pd.to_datetime(df[\"ended_at\"])"
   ]
  },
  {
   "cell_type": "code",
   "execution_count": 8,
   "metadata": {},
   "outputs": [],
   "source": [
    "df[\"start_lat\"] = df[\"start_lat\"].round(4)\n",
    "df[\"end_lat\"] = df[\"end_lat\"].round(4)\n",
    "df[\"start_lng\"] = df[\"start_lng\"].round(4)\n",
    "df[\"end_lng\"] = df[\"end_lng\"].round(4)"
   ]
  },
  {
   "cell_type": "code",
   "execution_count": 9,
   "metadata": {},
   "outputs": [
    {
     "data": {
      "text/plain": [
       "ride_id                       object\n",
       "rideable_type                 object\n",
       "started_at            datetime64[ns]\n",
       "ended_at              datetime64[ns]\n",
       "start_station_name            object\n",
       "start_station_id              object\n",
       "end_station_name              object\n",
       "end_station_id                object\n",
       "start_lat                    float64\n",
       "start_lng                    float64\n",
       "end_lat                      float64\n",
       "end_lng                      float64\n",
       "member_casual                 object\n",
       "dtype: object"
      ]
     },
     "execution_count": 9,
     "metadata": {},
     "output_type": "execute_result"
    }
   ],
   "source": [
    "df.dtypes"
   ]
  },
  {
   "cell_type": "code",
   "execution_count": 10,
   "metadata": {},
   "outputs": [
    {
     "data": {
      "text/html": [
       "<div>\n",
       "<style scoped>\n",
       "    .dataframe tbody tr th:only-of-type {\n",
       "        vertical-align: middle;\n",
       "    }\n",
       "\n",
       "    .dataframe tbody tr th {\n",
       "        vertical-align: top;\n",
       "    }\n",
       "\n",
       "    .dataframe thead th {\n",
       "        text-align: right;\n",
       "    }\n",
       "</style>\n",
       "<table border=\"1\" class=\"dataframe\">\n",
       "  <thead>\n",
       "    <tr style=\"text-align: right;\">\n",
       "      <th></th>\n",
       "      <th>ride_id</th>\n",
       "      <th>rideable_type</th>\n",
       "      <th>started_at</th>\n",
       "      <th>ended_at</th>\n",
       "      <th>start_station_name</th>\n",
       "      <th>start_station_id</th>\n",
       "      <th>end_station_name</th>\n",
       "      <th>end_station_id</th>\n",
       "      <th>start_lat</th>\n",
       "      <th>start_lng</th>\n",
       "      <th>end_lat</th>\n",
       "      <th>end_lng</th>\n",
       "      <th>member_casual</th>\n",
       "    </tr>\n",
       "  </thead>\n",
       "  <tbody>\n",
       "    <tr>\n",
       "      <th>0</th>\n",
       "      <td>984F50BCBC76DD9A</td>\n",
       "      <td>classic_bike</td>\n",
       "      <td>2023-06-11 06:54:21</td>\n",
       "      <td>2023-06-11 07:12:28</td>\n",
       "      <td>W 84 St &amp; Columbus Ave</td>\n",
       "      <td>7382.04</td>\n",
       "      <td>Amsterdam Ave &amp; W 125 St</td>\n",
       "      <td>7800.03</td>\n",
       "      <td>40.7850</td>\n",
       "      <td>-73.9728</td>\n",
       "      <td>40.8134</td>\n",
       "      <td>-73.9565</td>\n",
       "      <td>member</td>\n",
       "    </tr>\n",
       "    <tr>\n",
       "      <th>1</th>\n",
       "      <td>03E3D62E7FB76B05</td>\n",
       "      <td>classic_bike</td>\n",
       "      <td>2023-06-19 15:23:11</td>\n",
       "      <td>2023-06-19 16:00:05</td>\n",
       "      <td>E 89 St &amp; York Ave</td>\n",
       "      <td>7204.08</td>\n",
       "      <td>Mott St &amp; Prince St</td>\n",
       "      <td>5561.04</td>\n",
       "      <td>40.7780</td>\n",
       "      <td>-73.9459</td>\n",
       "      <td>40.7232</td>\n",
       "      <td>-73.9948</td>\n",
       "      <td>member</td>\n",
       "    </tr>\n",
       "    <tr>\n",
       "      <th>2</th>\n",
       "      <td>8E7EE421A0B8BBF3</td>\n",
       "      <td>classic_bike</td>\n",
       "      <td>2023-06-06 16:07:05</td>\n",
       "      <td>2023-06-06 16:15:14</td>\n",
       "      <td>E 51 St &amp; 2 Ave</td>\n",
       "      <td>6575.03</td>\n",
       "      <td>E 25 St &amp; 1 Ave</td>\n",
       "      <td>6004.07</td>\n",
       "      <td>40.7554</td>\n",
       "      <td>-73.9675</td>\n",
       "      <td>40.7382</td>\n",
       "      <td>-73.9774</td>\n",
       "      <td>member</td>\n",
       "    </tr>\n",
       "    <tr>\n",
       "      <th>3</th>\n",
       "      <td>24D66A0C46493CB1</td>\n",
       "      <td>classic_bike</td>\n",
       "      <td>2023-06-26 19:52:23</td>\n",
       "      <td>2023-06-26 19:55:47</td>\n",
       "      <td>India St Pier</td>\n",
       "      <td>5794.05</td>\n",
       "      <td>Franklin St &amp; Dupont St</td>\n",
       "      <td>5944.01</td>\n",
       "      <td>40.7317</td>\n",
       "      <td>-73.9612</td>\n",
       "      <td>40.7356</td>\n",
       "      <td>-73.9587</td>\n",
       "      <td>member</td>\n",
       "    </tr>\n",
       "    <tr>\n",
       "      <th>4</th>\n",
       "      <td>E944882A074B8F61</td>\n",
       "      <td>classic_bike</td>\n",
       "      <td>2023-06-05 08:57:57</td>\n",
       "      <td>2023-06-05 09:13:36</td>\n",
       "      <td>E 47 St &amp; 2 Ave</td>\n",
       "      <td>6498.1</td>\n",
       "      <td>5 Ave &amp; E 29 St</td>\n",
       "      <td>6248.06</td>\n",
       "      <td>40.7532</td>\n",
       "      <td>-73.9703</td>\n",
       "      <td>40.7452</td>\n",
       "      <td>-73.9868</td>\n",
       "      <td>member</td>\n",
       "    </tr>\n",
       "  </tbody>\n",
       "</table>\n",
       "</div>"
      ],
      "text/plain": [
       "            ride_id rideable_type          started_at            ended_at  \\\n",
       "0  984F50BCBC76DD9A  classic_bike 2023-06-11 06:54:21 2023-06-11 07:12:28   \n",
       "1  03E3D62E7FB76B05  classic_bike 2023-06-19 15:23:11 2023-06-19 16:00:05   \n",
       "2  8E7EE421A0B8BBF3  classic_bike 2023-06-06 16:07:05 2023-06-06 16:15:14   \n",
       "3  24D66A0C46493CB1  classic_bike 2023-06-26 19:52:23 2023-06-26 19:55:47   \n",
       "4  E944882A074B8F61  classic_bike 2023-06-05 08:57:57 2023-06-05 09:13:36   \n",
       "\n",
       "       start_station_name start_station_id          end_station_name  \\\n",
       "0  W 84 St & Columbus Ave          7382.04  Amsterdam Ave & W 125 St   \n",
       "1      E 89 St & York Ave          7204.08       Mott St & Prince St   \n",
       "2         E 51 St & 2 Ave          6575.03           E 25 St & 1 Ave   \n",
       "3           India St Pier          5794.05   Franklin St & Dupont St   \n",
       "4         E 47 St & 2 Ave           6498.1           5 Ave & E 29 St   \n",
       "\n",
       "  end_station_id  start_lat  start_lng  end_lat  end_lng member_casual  \n",
       "0        7800.03    40.7850   -73.9728  40.8134 -73.9565        member  \n",
       "1        5561.04    40.7780   -73.9459  40.7232 -73.9948        member  \n",
       "2        6004.07    40.7554   -73.9675  40.7382 -73.9774        member  \n",
       "3        5944.01    40.7317   -73.9612  40.7356 -73.9587        member  \n",
       "4        6248.06    40.7532   -73.9703  40.7452 -73.9868        member  "
      ]
     },
     "execution_count": 10,
     "metadata": {},
     "output_type": "execute_result"
    }
   ],
   "source": [
    "df.head()"
   ]
  },
  {
   "cell_type": "code",
   "execution_count": 11,
   "metadata": {},
   "outputs": [],
   "source": [
    "df.to_csv(\"june2023citibike.csv\", index = False)"
   ]
  }
 ],
 "metadata": {
  "kernelspec": {
   "display_name": "dev",
   "language": "python",
   "name": "python3"
  },
  "language_info": {
   "codemirror_mode": {
    "name": "ipython",
    "version": 3
   },
   "file_extension": ".py",
   "mimetype": "text/x-python",
   "name": "python",
   "nbconvert_exporter": "python",
   "pygments_lexer": "ipython3",
   "version": "3.10.13"
  }
 },
 "nbformat": 4,
 "nbformat_minor": 2
}
